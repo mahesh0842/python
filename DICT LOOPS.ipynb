{
 "cells": [
  {
   "cell_type": "code",
   "execution_count": 1,
   "id": "c66b9ca5-e5b5-444d-b694-1ed93598a825",
   "metadata": {},
   "outputs": [],
   "source": [
    "#####DICTONARY###"
   ]
  },
  {
   "cell_type": "code",
   "execution_count": 2,
   "id": "e8a789fb-fc49-406d-88f0-fb52d4887e57",
   "metadata": {},
   "outputs": [],
   "source": [
    "d={}"
   ]
  },
  {
   "cell_type": "code",
   "execution_count": 3,
   "id": "10906089-60e1-42c5-b36f-89f3a627f216",
   "metadata": {},
   "outputs": [
    {
     "data": {
      "text/plain": [
       "dict"
      ]
     },
     "execution_count": 3,
     "metadata": {},
     "output_type": "execute_result"
    }
   ],
   "source": [
    "type(d)"
   ]
  },
  {
   "cell_type": "code",
   "execution_count": 5,
   "id": "fb915d8c-fa45-40cb-97f8-e553c1b3b091",
   "metadata": {},
   "outputs": [],
   "source": [
    "d1={'india':\"new delhi\",'email':\"india@gmail.com\",\"number\":993094}"
   ]
  },
  {
   "cell_type": "code",
   "execution_count": 7,
   "id": "2ba6ea1f-25f5-45ad-a52b-1fec2cc3ed8f",
   "metadata": {},
   "outputs": [
    {
     "data": {
      "text/plain": [
       "{'india': 'new delhi', 'email': 'india@gmail.com', 'number': 993094}"
      ]
     },
     "execution_count": 7,
     "metadata": {},
     "output_type": "execute_result"
    }
   ],
   "source": [
    "d1"
   ]
  },
  {
   "cell_type": "code",
   "execution_count": 9,
   "id": "f12a92cf-c12d-4009-9a7e-680a331ff469",
   "metadata": {},
   "outputs": [
    {
     "data": {
      "text/plain": [
       "dict_keys(['india', 'email', 'number'])"
      ]
     },
     "execution_count": 9,
     "metadata": {},
     "output_type": "execute_result"
    }
   ],
   "source": [
    "d1.keys()"
   ]
  },
  {
   "cell_type": "code",
   "execution_count": 11,
   "id": "7e1a35dc-ca62-4590-b729-02069246c39c",
   "metadata": {},
   "outputs": [
    {
     "data": {
      "text/plain": [
       "dict_values(['new delhi', 'india@gmail.com', 993094])"
      ]
     },
     "execution_count": 11,
     "metadata": {},
     "output_type": "execute_result"
    }
   ],
   "source": [
    "d1.values()"
   ]
  },
  {
   "cell_type": "code",
   "execution_count": 12,
   "id": "1a376e8d-7920-490a-9a42-1bdcdb21efdb",
   "metadata": {},
   "outputs": [],
   "source": [
    "###key shold be always unique otherwise it oveeride the data\n",
    "d2={'name':'mahesh','mail_id':'mmm@gmail.com','name':'maheshkmar'}"
   ]
  },
  {
   "cell_type": "code",
   "execution_count": 14,
   "id": "e82bf155-1a3f-4c0f-a4e6-d11634937ae2",
   "metadata": {},
   "outputs": [
    {
     "data": {
      "text/plain": [
       "{'name': 'maheshkmar', 'mail_id': 'mmm@gmail.com'}"
      ]
     },
     "execution_count": 14,
     "metadata": {},
     "output_type": "execute_result"
    }
   ],
   "source": [
    "d2"
   ]
  },
  {
   "cell_type": "code",
   "execution_count": 17,
   "id": "08e425e1-530c-4f04-9207-cfd1156e2281",
   "metadata": {},
   "outputs": [],
   "source": [
    "d3={\"compnay\":\"pwskills\",\"courses\":[\"webdev\",\"dsa\",\"ds\"]}"
   ]
  },
  {
   "cell_type": "code",
   "execution_count": 19,
   "id": "1899a98a-763e-47d3-ba6c-1eeb4dc90ad9",
   "metadata": {},
   "outputs": [
    {
     "data": {
      "text/plain": [
       "{'compnay': 'pwskills', 'courses': ['webdev', 'dsa', 'ds']}"
      ]
     },
     "execution_count": 19,
     "metadata": {},
     "output_type": "execute_result"
    }
   ],
   "source": [
    "d3"
   ]
  },
  {
   "cell_type": "code",
   "execution_count": 21,
   "id": "e117c6bf-2f42-4ca2-b41b-682a4a88d8b0",
   "metadata": {},
   "outputs": [
    {
     "data": {
      "text/plain": [
       "'ds'"
      ]
     },
     "execution_count": 21,
     "metadata": {},
     "output_type": "execute_result"
    }
   ],
   "source": [
    "d3['courses'][2]"
   ]
  },
  {
   "cell_type": "code",
   "execution_count": 23,
   "id": "c73734d0-b3a8-4b45-97e0-76057a9c67f0",
   "metadata": {},
   "outputs": [],
   "source": [
    "d4={\"number\":[2,354,5,5],\"assignment\":[1,2,34,55],\"launchdate\":[28,12,14]}"
   ]
  },
  {
   "cell_type": "code",
   "execution_count": 24,
   "id": "ae640062-5659-4baf-9d02-1f1e21eaf256",
   "metadata": {},
   "outputs": [
    {
     "data": {
      "text/plain": [
       "{'number': [2, 354, 5, 5],\n",
       " 'assignment': [1, 2, 34, 55],\n",
       " 'launchdate': [28, 12, 14]}"
      ]
     },
     "execution_count": 24,
     "metadata": {},
     "output_type": "execute_result"
    }
   ],
   "source": [
    "d4"
   ]
  },
  {
   "cell_type": "code",
   "execution_count": 3,
   "id": "6787e3ff-6a99-435f-add1-46bf518fad0c",
   "metadata": {},
   "outputs": [],
   "source": [
    "d5={\"dsa\":8.7}"
   ]
  },
  {
   "cell_type": "code",
   "execution_count": 4,
   "id": "0d390e72-e863-42a0-bf63-05cb7e2656b3",
   "metadata": {},
   "outputs": [
    {
     "data": {
      "text/plain": [
       "dict"
      ]
     },
     "execution_count": 4,
     "metadata": {},
     "output_type": "execute_result"
    }
   ],
   "source": [
    "type(d5)"
   ]
  },
  {
   "cell_type": "code",
   "execution_count": 5,
   "id": "cb3110d0-cd0a-4c91-9212-fe057bb87ebc",
   "metadata": {},
   "outputs": [],
   "source": [
    "d5['mentor']=[\"mhaesh\",'ashish','abhishek']"
   ]
  },
  {
   "cell_type": "code",
   "execution_count": 6,
   "id": "4b3b398b-1c1d-4d28-8f5d-023251cdd58a",
   "metadata": {},
   "outputs": [
    {
     "data": {
      "text/plain": [
       "{'dsa': 8.7, 'mentor': ['mhaesh', 'ashish', 'abhishek']}"
      ]
     },
     "execution_count": 6,
     "metadata": {},
     "output_type": "execute_result"
    }
   ],
   "source": [
    "d5"
   ]
  },
  {
   "cell_type": "code",
   "execution_count": 7,
   "id": "c420929b-39b8-47f3-9cb2-a7d33f007317",
   "metadata": {},
   "outputs": [
    {
     "data": {
      "text/plain": [
       "dict_keys(['dsa', 'mentor'])"
      ]
     },
     "execution_count": 7,
     "metadata": {},
     "output_type": "execute_result"
    }
   ],
   "source": [
    "d5.keys()"
   ]
  },
  {
   "cell_type": "code",
   "execution_count": 10,
   "id": "452c38ea-905b-465c-9889-928140d81acb",
   "metadata": {},
   "outputs": [
    {
     "data": {
      "text/plain": [
       "dict_values([8.7, ['mhaesh', 'ashish', 'abhishek']])"
      ]
     },
     "execution_count": 10,
     "metadata": {},
     "output_type": "execute_result"
    }
   ],
   "source": [
    "d5.values()"
   ]
  },
  {
   "cell_type": "code",
   "execution_count": 12,
   "id": "e9da9178-d3be-4a26-b418-e1988b18851e",
   "metadata": {},
   "outputs": [
    {
     "data": {
      "text/plain": [
       "[('dsa', 8.7), ('mentor', ['mhaesh', 'ashish', 'abhishek'])]"
      ]
     },
     "execution_count": 12,
     "metadata": {},
     "output_type": "execute_result"
    }
   ],
   "source": [
    "list(d5.items())"
   ]
  },
  {
   "cell_type": "code",
   "execution_count": 15,
   "id": "76221a9b-84cf-4db5-a398-1144533e348a",
   "metadata": {},
   "outputs": [
    {
     "ename": "TypeError",
     "evalue": "pop expected at least 1 argument, got 0",
     "output_type": "error",
     "traceback": [
      "\u001b[0;31m---------------------------------------------------------------------------\u001b[0m",
      "\u001b[0;31mTypeError\u001b[0m                                 Traceback (most recent call last)",
      "Cell \u001b[0;32mIn[15], line 1\u001b[0m\n\u001b[0;32m----> 1\u001b[0m \u001b[43md5\u001b[49m\u001b[38;5;241;43m.\u001b[39;49m\u001b[43mpop\u001b[49m\u001b[43m(\u001b[49m\u001b[43m)\u001b[49m\n",
      "\u001b[0;31mTypeError\u001b[0m: pop expected at least 1 argument, got 0"
     ]
    }
   ],
   "source": [
    "d5.pop()"
   ]
  },
  {
   "cell_type": "code",
   "execution_count": 16,
   "id": "249ef99d-5d19-419d-acde-ef7c23a222eb",
   "metadata": {},
   "outputs": [],
   "source": [
    "###########--- FLOW CONTROL  -------#######"
   ]
  },
  {
   "cell_type": "code",
   "execution_count": 5,
   "id": "ee653684-e950-4724-8d71-e50c4dcb2e7c",
   "metadata": {},
   "outputs": [
    {
     "name": "stdin",
     "output_type": "stream",
     "text": [
      "Enter your marks 55\n"
     ]
    },
    {
     "name": "stdout",
     "output_type": "stream",
     "text": [
      "you will be part of A2 batch\n"
     ]
    }
   ],
   "source": [
    "marks=int(input(\"Enter your marks\"))\n",
    "if marks >=80 :\n",
    "    print(\"you will be a part of A0 batch\")\n",
    "elif marks>=60 and marks<80:\n",
    "    print(\"you will be part of A1 batch\")\n",
    "elif marks>=40 and marks<60 :\n",
    "    print(\"you will be part of A2 batch\")\n",
    "else:\n",
    "    print(\"yoy wil be part of A3 batch\")"
   ]
  },
  {
   "cell_type": "code",
   "execution_count": 6,
   "id": "bbb5af75-11c9-4cc0-983e-e5fe4f365a39",
   "metadata": {},
   "outputs": [
    {
     "data": {
      "text/plain": [
       "int"
      ]
     },
     "execution_count": 6,
     "metadata": {},
     "output_type": "execute_result"
    }
   ],
   "source": [
    "type(marks)"
   ]
  },
  {
   "cell_type": "code",
   "execution_count": 11,
   "id": "d93b7326-748d-4707-9651-74d83e77a49f",
   "metadata": {},
   "outputs": [
    {
     "name": "stdin",
     "output_type": "stream",
     "text": [
      "enter your price 44\n"
     ]
    },
    {
     "name": "stdout",
     "output_type": "stream",
     "text": [
      "i will not purchase\n"
     ]
    }
   ],
   "source": [
    "price= int(input(\"enter your price\"))\n",
    "if price>1000:\n",
    "    print(\"i will purchase\")\n",
    "else:\n",
    "    print(\"i will not purchase\")"
   ]
  },
  {
   "cell_type": "code",
   "execution_count": 18,
   "id": "8695675f-6096-41ae-977a-8a009d3e603c",
   "metadata": {},
   "outputs": [],
   "source": [
    "list2 = [1,2,3,4,5,6,7]\n"
   ]
  },
  {
   "cell_type": "code",
   "execution_count": 25,
   "id": "787990f9-5fb6-4058-a995-10dc8d959c52",
   "metadata": {},
   "outputs": [
    {
     "name": "stdout",
     "output_type": "stream",
     "text": [
      "23\n",
      "24\n",
      "25\n",
      "26\n",
      "27\n",
      "28\n",
      "29\n"
     ]
    }
   ],
   "source": [
    "list3 =[]\n",
    "for i in list2 :\n",
    "    print(i+22)\n",
    "    list3.append(i+22)\n",
    "    \n",
    "    "
   ]
  },
  {
   "cell_type": "code",
   "execution_count": 26,
   "id": "9b656157-a6d9-4977-abd0-5c02077bf750",
   "metadata": {},
   "outputs": [
    {
     "data": {
      "text/plain": [
       "[23, 24, 25, 26, 27, 28, 29]"
      ]
     },
     "execution_count": 26,
     "metadata": {},
     "output_type": "execute_result"
    }
   ],
   "source": [
    "list3"
   ]
  },
  {
   "cell_type": "code",
   "execution_count": 27,
   "id": "5b6b6746-7232-42e1-93c8-e9efd48357da",
   "metadata": {},
   "outputs": [],
   "source": [
    "list4=[\"mahesh\",\"kumar\",\"pwskills\",\"course\"]"
   ]
  },
  {
   "cell_type": "code",
   "execution_count": 30,
   "id": "bd426776-367e-4330-bf83-2f79a2c94fed",
   "metadata": {},
   "outputs": [
    {
     "name": "stdout",
     "output_type": "stream",
     "text": [
      "mahesh\n",
      "kumar\n",
      "pwskills\n",
      "course\n"
     ]
    }
   ],
   "source": [
    "list5=[]\n",
    "for i in list4:\n",
    "    print(i)\n",
    "    list5.append(i.upper())"
   ]
  },
  {
   "cell_type": "code",
   "execution_count": 31,
   "id": "99e1e448-2725-437e-b50e-e95ee0658cf3",
   "metadata": {},
   "outputs": [
    {
     "data": {
      "text/plain": [
       "['MAHESH', 'KUMAR', 'PWSKILLS', 'COURSE']"
      ]
     },
     "execution_count": 31,
     "metadata": {},
     "output_type": "execute_result"
    }
   ],
   "source": [
    "list5"
   ]
  },
  {
   "cell_type": "code",
   "execution_count": 38,
   "id": "d7102be4-1b99-455e-8cc2-6cacc8b3a0d6",
   "metadata": {},
   "outputs": [],
   "source": [
    "l6=[1,2,3,4,5,6,'mahes','mk',333,444,'kk']"
   ]
  },
  {
   "cell_type": "code",
   "execution_count": 46,
   "id": "a1263e37-cb60-4711-ad40-dc80648becae",
   "metadata": {},
   "outputs": [],
   "source": [
    "l7_num=[]\n",
    "l8_str=[]\n",
    "for i in l6:\n",
    "    if type(i) == int or type(i)==float :\n",
    "        l7_num.append(i)\n",
    "    else:\n",
    "        l8_str.append(i)\n",
    "    "
   ]
  },
  {
   "cell_type": "code",
   "execution_count": 47,
   "id": "b05f17b2-c476-40e0-bca3-d242188d2da1",
   "metadata": {},
   "outputs": [
    {
     "data": {
      "text/plain": [
       "[1, 2, 3, 4, 5, 6, 333, 444]"
      ]
     },
     "execution_count": 47,
     "metadata": {},
     "output_type": "execute_result"
    }
   ],
   "source": [
    "l7_num\n",
    "\n"
   ]
  },
  {
   "cell_type": "code",
   "execution_count": 48,
   "id": "7bbee875-102a-4e4f-ba98-28e5ef2f7639",
   "metadata": {},
   "outputs": [
    {
     "data": {
      "text/plain": [
       "['mahes', 'mk', 'kk']"
      ]
     },
     "execution_count": 48,
     "metadata": {},
     "output_type": "execute_result"
    }
   ],
   "source": [
    "l8_str"
   ]
  },
  {
   "cell_type": "code",
   "execution_count": null,
   "id": "e871dec9-be53-4553-a4e3-2b49e40c4860",
   "metadata": {},
   "outputs": [],
   "source": []
  },
  {
   "cell_type": "code",
   "execution_count": null,
   "id": "ed923ede-3fa4-4925-ae4b-738e969c5629",
   "metadata": {},
   "outputs": [],
   "source": []
  },
  {
   "cell_type": "code",
   "execution_count": null,
   "id": "144c3e08-6db0-45b9-a904-f4a653358682",
   "metadata": {},
   "outputs": [],
   "source": []
  },
  {
   "cell_type": "code",
   "execution_count": null,
   "id": "c027f292-15b3-4813-872d-d824e88a08d5",
   "metadata": {},
   "outputs": [],
   "source": []
  }
 ],
 "metadata": {
  "kernelspec": {
   "display_name": "Python 3 (ipykernel)",
   "language": "python",
   "name": "python3"
  },
  "language_info": {
   "codemirror_mode": {
    "name": "ipython",
    "version": 3
   },
   "file_extension": ".py",
   "mimetype": "text/x-python",
   "name": "python",
   "nbconvert_exporter": "python",
   "pygments_lexer": "ipython3",
   "version": "3.10.8"
  }
 },
 "nbformat": 4,
 "nbformat_minor": 5
}
